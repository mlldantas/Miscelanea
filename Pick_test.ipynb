{
 "cells": [
  {
   "cell_type": "code",
   "execution_count": 1,
   "id": "425a1a7b",
   "metadata": {},
   "outputs": [],
   "source": [
    "import matplotlib.pyplot as plt\n",
    "from matplotlib.lines import Line2D\n",
    "from matplotlib.patches import Rectangle\n",
    "from matplotlib.text import Text\n",
    "from matplotlib.image import AxesImage\n",
    "import numpy as np\n",
    "from numpy.random import rand"
   ]
  },
  {
   "cell_type": "code",
   "execution_count": 2,
   "id": "4619bc20",
   "metadata": {},
   "outputs": [],
   "source": [
    "np.random.seed(19680801)"
   ]
  },
  {
   "cell_type": "code",
   "execution_count": 3,
   "id": "0b54c32f",
   "metadata": {},
   "outputs": [],
   "source": [
    "%matplotlib widget"
   ]
  },
  {
   "cell_type": "code",
   "execution_count": 4,
   "id": "18706ee8",
   "metadata": {},
   "outputs": [],
   "source": [
    "def pick_simple():\n",
    "    # simple picking, lines, rectangles and text\n",
    "    fig, (ax1, ax2) = plt.subplots(2, 1)\n",
    "    ax1.set_title('click on points, rectangles or text', picker=True)\n",
    "    ax1.set_ylabel('ylabel', picker=True, bbox=dict(facecolor='red'))\n",
    "    line, = ax1.plot(rand(100), 'o', picker=True, pickradius=5)\n",
    "\n",
    "    # pick the rectangle\n",
    "    ax2.bar(range(10), rand(10), picker=True)\n",
    "    for label in ax2.get_xticklabels():  # make the xtick labels pickable\n",
    "        label.set_picker(True)\n",
    "\n",
    "    def onpick1(event):\n",
    "        if isinstance(event.artist, Line2D):\n",
    "            thisline = event.artist\n",
    "            xdata = thisline.get_xdata()\n",
    "            ydata = thisline.get_ydata()\n",
    "            ind = event.ind\n",
    "            print('onpick1 line:', np.column_stack([xdata[ind], ydata[ind]]))\n",
    "        elif isinstance(event.artist, Rectangle):\n",
    "            patch = event.artist\n",
    "            print('onpick1 patch:', patch.get_path())\n",
    "        elif isinstance(event.artist, Text):\n",
    "            text = event.artist\n",
    "            print('onpick1 text:', text.get_text())\n",
    "\n",
    "    fig.canvas.mpl_connect('pick_event', onpick1)"
   ]
  },
  {
   "cell_type": "code",
   "execution_count": 5,
   "id": "50b627e7",
   "metadata": {},
   "outputs": [
    {
     "data": {
      "application/vnd.jupyter.widget-view+json": {
       "model_id": "f2ced713d4b7415e9106abed60f989d7",
       "version_major": 2,
       "version_minor": 0
      },
      "text/plain": [
       "Canvas(toolbar=Toolbar(toolitems=[('Home', 'Reset original view', 'home', 'home'), ('Back', 'Back to previous …"
      ]
     },
     "metadata": {},
     "output_type": "display_data"
    }
   ],
   "source": [
    "if __name__ == '__main__':\n",
    "    pick_simple()\n",
    "#     pick_custom_hit()\n",
    "#     pick_scatter_plot()\n",
    "#     pick_image()\n",
    "    plt.show()"
   ]
  },
  {
   "cell_type": "code",
   "execution_count": 6,
   "id": "8d8c9c70",
   "metadata": {},
   "outputs": [
    {
     "data": {
      "application/vnd.jupyter.widget-view+json": {
       "model_id": "fe477c8ce0064ba59dbf8b5479a2d980",
       "version_major": 2,
       "version_minor": 0
      },
      "text/plain": [
       "Canvas(toolbar=Toolbar(toolitems=[('Home', 'Reset original view', 'home', 'home'), ('Back', 'Back to previous …"
      ]
     },
     "metadata": {},
     "output_type": "display_data"
    }
   ],
   "source": [
    "import matplotlib.pyplot as plt\n",
    "from matplotlib.lines import Line2D\n",
    "from matplotlib.patches import Rectangle\n",
    "from matplotlib.text import Text\n",
    "from matplotlib.image import AxesImage\n",
    "import numpy as np\n",
    "from numpy.random import rand\n",
    "\n",
    "if 1:\n",
    "    fig, ax = plt.subplots()\n",
    "    ax.set_title('click on points', picker=True)\n",
    "    ax.set_ylabel('ylabel', picker=True, bbox=dict(facecolor='red'))\n",
    "    line, = ax.plot(rand(100), 'o')\n",
    "    line.set_pickradius(5)\n",
    "\n",
    "    def onpick1(event):\n",
    "        if isinstance(event.artist, Line2D):\n",
    "            thisline = event.artist\n",
    "            xdata = thisline.get_xdata()\n",
    "            ydata = thisline.get_ydata()\n",
    "            ind = event.ind\n",
    "            print ('X='+str(np.take(xdata, ind)[0])) # Print X point\n",
    "            print ('Y='+str(np.take(ydata, ind)[0])) # Print Y point\n",
    "\n",
    "    fig.canvas.mpl_connect('pick_event', onpick1)"
   ]
  },
  {
   "cell_type": "code",
   "execution_count": null,
   "id": "ec54c96a",
   "metadata": {},
   "outputs": [],
   "source": []
  }
 ],
 "metadata": {
  "kernelspec": {
   "display_name": "Python 3 (ipykernel)",
   "language": "python",
   "name": "python3"
  },
  "language_info": {
   "codemirror_mode": {
    "name": "ipython",
    "version": 3
   },
   "file_extension": ".py",
   "mimetype": "text/x-python",
   "name": "python",
   "nbconvert_exporter": "python",
   "pygments_lexer": "ipython3",
   "version": "3.8.11"
  }
 },
 "nbformat": 4,
 "nbformat_minor": 5
}
