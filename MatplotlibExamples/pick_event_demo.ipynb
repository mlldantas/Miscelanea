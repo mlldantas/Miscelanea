{
 "cells": [
  {
   "cell_type": "code",
   "execution_count": null,
   "metadata": {},
   "outputs": [],
   "source": [
    "# https://www.youtube.com/watch?v=QcRE8dinls4"
   ]
  },
  {
   "cell_type": "code",
   "execution_count": 3,
   "metadata": {},
   "outputs": [],
   "source": [
    "%matplotlib widget"
   ]
  },
  {
   "cell_type": "markdown",
   "metadata": {},
   "source": [
    "\n",
    "# Pick Event Demo\n",
    "\n",
    "\n",
    "\n",
    "You can enable picking by setting the \"picker\" property of an artist\n",
    "(for example, a matplotlib Line2D, Text, Patch, Polygon, AxesImage,\n",
    "etc...)\n",
    "\n",
    "There are a variety of meanings of the picker property:\n",
    "\n",
    "* *None* - picking is disabled for this artist (default)\n",
    "\n",
    "* bool - if *True* then picking will be enabled and the artist will fire a pick\n",
    "  event if the mouse event is over the artist.\n",
    "\n",
    "  Setting ``pickradius`` will add an epsilon tolerance in points and the artist\n",
    "  will fire off an event if its data is within epsilon of the mouse event.  For\n",
    "  some artists like lines and patch collections, the artist may provide\n",
    "  additional data to the pick event that is generated, for example, the indices\n",
    "  of the data within epsilon of the pick event\n",
    "\n",
    "* function - if picker is callable, it is a user supplied function which\n",
    "  determines whether the artist is hit by the mouse event.\n",
    "\n",
    "     hit, props = picker(artist, mouseevent)\n",
    "\n",
    "  to determine the hit test.  If the mouse event is over the artist, return\n",
    "  hit=True and props is a dictionary of properties you want added to the\n",
    "  PickEvent attributes.\n",
    "\n",
    "After you have enabled an artist for picking by setting the \"picker\"\n",
    "property, you need to connect to the figure canvas pick_event to get\n",
    "pick callbacks on mouse press events.  For example,\n",
    "\n",
    "  def pick_handler(event):\n",
    "      mouseevent = event.mouseevent\n",
    "      artist = event.artist\n",
    "      # now do something with this...\n",
    "\n",
    "\n",
    "The pick event (matplotlib.backend_bases.PickEvent) which is passed to\n",
    "your callback is always fired with two attributes:\n",
    "\n",
    "  mouseevent - the mouse event that generate the pick event.  The\n",
    "    mouse event in turn has attributes like x and y (the coordinates in\n",
    "    display space, such as pixels from left, bottom) and xdata, ydata (the\n",
    "    coords in data space).  Additionally, you can get information about\n",
    "    which buttons were pressed, which keys were pressed, which Axes\n",
    "    the mouse is over, etc.  See matplotlib.backend_bases.MouseEvent\n",
    "    for details.\n",
    "\n",
    "  artist - the matplotlib.artist that generated the pick event.\n",
    "\n",
    "Additionally, certain artists like Line2D and PatchCollection may\n",
    "attach additional meta data like the indices into the data that meet\n",
    "the picker criteria (for example, all the points in the line that are within\n",
    "the specified epsilon tolerance)\n",
    "\n",
    "The examples below illustrate each of these methods.\n"
   ]
  },
  {
   "cell_type": "code",
   "execution_count": 4,
   "metadata": {},
   "outputs": [
    {
     "data": {
      "application/vnd.jupyter.widget-view+json": {
       "model_id": "5e87f047bea14ae5b355154e28c4b6b6",
       "version_major": 2,
       "version_minor": 0
      },
      "text/plain": [
       "Canvas(toolbar=Toolbar(toolitems=[('Home', 'Reset original view', 'home', 'home'), ('Back', 'Back to previous …"
      ]
     },
     "metadata": {},
     "output_type": "display_data"
    },
    {
     "data": {
      "application/vnd.jupyter.widget-view+json": {
       "model_id": "28593df25d0e4b48b912ef4c838e9942",
       "version_major": 2,
       "version_minor": 0
      },
      "text/plain": [
       "Canvas(toolbar=Toolbar(toolitems=[('Home', 'Reset original view', 'home', 'home'), ('Back', 'Back to previous …"
      ]
     },
     "metadata": {},
     "output_type": "display_data"
    },
    {
     "data": {
      "application/vnd.jupyter.widget-view+json": {
       "model_id": "a5a954c617314d7da08c45905c8049af",
       "version_major": 2,
       "version_minor": 0
      },
      "text/plain": [
       "Canvas(toolbar=Toolbar(toolitems=[('Home', 'Reset original view', 'home', 'home'), ('Back', 'Back to previous …"
      ]
     },
     "metadata": {},
     "output_type": "display_data"
    },
    {
     "data": {
      "application/vnd.jupyter.widget-view+json": {
       "model_id": "ce1153b342084f6fb40d71a086d19a4d",
       "version_major": 2,
       "version_minor": 0
      },
      "text/plain": [
       "Canvas(toolbar=Toolbar(toolitems=[('Home', 'Reset original view', 'home', 'home'), ('Back', 'Back to previous …"
      ]
     },
     "metadata": {},
     "output_type": "display_data"
    }
   ],
   "source": [
    "import matplotlib.pyplot as plt\n",
    "from matplotlib.lines import Line2D\n",
    "from matplotlib.patches import Rectangle\n",
    "from matplotlib.text import Text\n",
    "from matplotlib.image import AxesImage\n",
    "import numpy as np\n",
    "from numpy.random import rand\n",
    "\n",
    "\n",
    "# Fixing random state for reproducibility\n",
    "np.random.seed(19680801)\n",
    "\n",
    "\n",
    "def pick_simple():\n",
    "    # simple picking, lines, rectangles and text\n",
    "    fig, (ax1, ax2) = plt.subplots(2, 1)\n",
    "    ax1.set_title('click on points, rectangles or text', picker=True)\n",
    "    ax1.set_ylabel('ylabel', picker=True, bbox=dict(facecolor='red'))\n",
    "    line, = ax1.plot(rand(100), 'o', picker=True, pickradius=5)\n",
    "\n",
    "    # pick the rectangle\n",
    "    ax2.bar(range(10), rand(10), picker=True)\n",
    "    for label in ax2.get_xticklabels():  # make the xtick labels pickable\n",
    "        label.set_picker(True)\n",
    "\n",
    "    def onpick1(event):\n",
    "        if isinstance(event.artist, Line2D):\n",
    "            thisline = event.artist\n",
    "            xdata = thisline.get_xdata()\n",
    "            ydata = thisline.get_ydata()\n",
    "            ind = event.ind\n",
    "            print('onpick1 line:', np.column_stack([xdata[ind], ydata[ind]]))\n",
    "        elif isinstance(event.artist, Rectangle):\n",
    "            patch = event.artist\n",
    "            print('onpick1 patch:', patch.get_path())\n",
    "        elif isinstance(event.artist, Text):\n",
    "            text = event.artist\n",
    "            print('onpick1 text:', text.get_text())\n",
    "\n",
    "    fig.canvas.mpl_connect('pick_event', onpick1)\n",
    "\n",
    "\n",
    "def pick_custom_hit():\n",
    "    # picking with a custom hit test function\n",
    "    # you can define custom pickers by setting picker to a callable\n",
    "    # function.  The function has the signature\n",
    "    #\n",
    "    #  hit, props = func(artist, mouseevent)\n",
    "    #\n",
    "    # to determine the hit test.  if the mouse event is over the artist,\n",
    "    # return hit=True and props is a dictionary of\n",
    "    # properties you want added to the PickEvent attributes\n",
    "\n",
    "    def line_picker(line, mouseevent):\n",
    "        \"\"\"\n",
    "        Find the points within a certain distance from the mouseclick in\n",
    "        data coords and attach some extra attributes, pickx and picky\n",
    "        which are the data points that were picked.\n",
    "        \"\"\"\n",
    "        if mouseevent.xdata is None:\n",
    "            return False, dict()\n",
    "        xdata = line.get_xdata()\n",
    "        ydata = line.get_ydata()\n",
    "        maxd = 0.05\n",
    "        d = np.sqrt(\n",
    "            (xdata - mouseevent.xdata)**2 + (ydata - mouseevent.ydata)**2)\n",
    "\n",
    "        ind, = np.nonzero(d <= maxd)\n",
    "        if len(ind):\n",
    "            pickx = xdata[ind]\n",
    "            picky = ydata[ind]\n",
    "            props = dict(ind=ind, pickx=pickx, picky=picky)\n",
    "            return True, props\n",
    "        else:\n",
    "            return False, dict()\n",
    "\n",
    "    def onpick2(event):\n",
    "        print('onpick2 line:', event.pickx, event.picky)\n",
    "\n",
    "    fig, ax = plt.subplots()\n",
    "    ax.set_title('custom picker for line data')\n",
    "    line, = ax.plot(rand(100), rand(100), 'o', picker=line_picker)\n",
    "    fig.canvas.mpl_connect('pick_event', onpick2)\n",
    "\n",
    "\n",
    "def pick_scatter_plot():\n",
    "    # picking on a scatter plot (matplotlib.collections.RegularPolyCollection)\n",
    "\n",
    "    x, y, c, s = rand(4, 100)\n",
    "\n",
    "    def onpick3(event):\n",
    "        ind = event.ind\n",
    "        print('onpick3 scatter:', ind, x[ind], y[ind])\n",
    "\n",
    "    fig, ax = plt.subplots()\n",
    "    ax.scatter(x, y, 100*s, c, picker=True)\n",
    "    fig.canvas.mpl_connect('pick_event', onpick3)\n",
    "\n",
    "\n",
    "def pick_image():\n",
    "    # picking images (matplotlib.image.AxesImage)\n",
    "    fig, ax = plt.subplots()\n",
    "    ax.imshow(rand(10, 5), extent=(1, 2, 1, 2), picker=True)\n",
    "    ax.imshow(rand(5, 10), extent=(3, 4, 1, 2), picker=True)\n",
    "    ax.imshow(rand(20, 25), extent=(1, 2, 3, 4), picker=True)\n",
    "    ax.imshow(rand(30, 12), extent=(3, 4, 3, 4), picker=True)\n",
    "    ax.set(xlim=(0, 5), ylim=(0, 5))\n",
    "\n",
    "    def onpick4(event):\n",
    "        artist = event.artist\n",
    "        if isinstance(artist, AxesImage):\n",
    "            im = artist\n",
    "            A = im.get_array()\n",
    "            print('onpick4 image', A.shape)\n",
    "\n",
    "    fig.canvas.mpl_connect('pick_event', onpick4)\n",
    "\n",
    "\n",
    "if __name__ == '__main__':\n",
    "    pick_simple()\n",
    "    pick_custom_hit()\n",
    "    pick_scatter_plot()\n",
    "    pick_image()\n",
    "    plt.show()"
   ]
  },
  {
   "cell_type": "code",
   "execution_count": null,
   "metadata": {},
   "outputs": [],
   "source": []
  }
 ],
 "metadata": {
  "kernelspec": {
   "display_name": "Python 3 (ipykernel)",
   "language": "python",
   "name": "python3"
  },
  "language_info": {
   "codemirror_mode": {
    "name": "ipython",
    "version": 3
   },
   "file_extension": ".py",
   "mimetype": "text/x-python",
   "name": "python",
   "nbconvert_exporter": "python",
   "pygments_lexer": "ipython3",
   "version": "3.8.11"
  }
 },
 "nbformat": 4,
 "nbformat_minor": 1
}
