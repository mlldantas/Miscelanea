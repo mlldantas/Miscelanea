{
 "cells": [
  {
   "cell_type": "code",
   "execution_count": 1,
   "metadata": {},
   "outputs": [],
   "source": [
    "import numpy             as np\n",
    "import pandas            as pd\n",
    "import matplotlib.pyplot as plt\n",
    "import matplotlib.image  as mpimg\n",
    "import os"
   ]
  },
  {
   "cell_type": "code",
   "execution_count": 2,
   "metadata": {},
   "outputs": [
    {
     "name": "stdout",
     "output_type": "stream",
     "text": [
      "Please enter the path to the images (please, do not add quotation marks): ./galaxies\n"
     ]
    }
   ],
   "source": [
    "figs_path = str(input(\"Please enter the path to the images (please, do not add quotation marks): \"))"
   ]
  },
  {
   "cell_type": "code",
   "execution_count": 3,
   "metadata": {},
   "outputs": [
    {
     "name": "stdout",
     "output_type": "stream",
     "text": [
      "How many galaxies would you like to classify? \n",
      "\n",
      "First galaxy? (Index like: 0 for the 1st, 1 for the second, etc.)0\n",
      "Last galaxy? (Index like: 10 for the 10th, 20 for the 20th, etc.)2\n"
     ]
    }
   ],
   "source": [
    "print(\"How many galaxies would you like to classify? \\n\")\n",
    "gal_i = int(input(\"First galaxy? (Index like: 0 for the 1st, 1 for the second, etc.)\"))\n",
    "gal_f = int(input(\"Last galaxy? (Index like: 10 for the 10th, 20 for the 20th, etc.)\"))"
   ]
  },
  {
   "cell_type": "code",
   "execution_count": null,
   "metadata": {},
   "outputs": [],
   "source": [
    "list_of_galaxies = os.listdir(figs_path)"
   ]
  },
  {
   "cell_type": "code",
   "execution_count": null,
   "metadata": {},
   "outputs": [],
   "source": [
    "list_to_array = np.array(list_of_galaxies)\n",
    "objects = list_to_array[gal_i:gal_f]"
   ]
  },
  {
   "cell_type": "code",
   "execution_count": null,
   "metadata": {},
   "outputs": [],
   "source": [
    "output = ['image', 'classification']\n",
    "for i in range(objects.size):\n",
    "    img=mpimg.imread(os.path.join(figs_path, objects[i]))\n",
    "    imgplot = plt.imshow(img)\n",
    "    plt.show()\n",
    "    answer = int(input('Lenticular? If yes: 1; if no: 0 '))\n",
    "    if answer==0 or answer==1:\n",
    "        output.append(i)\n",
    "        output.append(answer)\n",
    "    else:\n",
    "        print(\"Invalid Answer!! Please try again:\")\n",
    "        alternative = int(input('Lenticular? \\n If yes: 1; if no: 0 '))\n",
    "        output.append(alternative)\n",
    "        if alternative!=0 or alternative!=1:\n",
    "            print(\"LAST CHANCE! DO NOT MAKE A MISTAKE NOW!\")\n",
    "            alt = int(input(\"ATTENTION: YES=1; NO=2. Please type the correct answer:\"))\n",
    "            output.append(alt)\n",
    "            if alt!=0 or alt!=1:\n",
    "                print(\"Wrong answer. Please try again later.\")\n",
    "                output.append('NAN')\n",
    "            else:\n",
    "                continue\n",
    "        else:\n",
    "            continue\n",
    "output = np.array(output)\n",
    "print(\"----------------------------------\")\n",
    "print(\"Thank you very much for your help!\")\n",
    "print(\"----------------------------------\")"
   ]
  },
  {
   "cell_type": "code",
   "execution_count": null,
   "metadata": {},
   "outputs": [],
   "source": [
    "out_path = str(input(\"Where would you like to save it?\"))"
   ]
  },
  {
   "cell_type": "code",
   "execution_count": null,
   "metadata": {},
   "outputs": [],
   "source": [
    "output_df = pd.DataFrame(output)\n",
    "output_df.to_csv(os.path.join(out_path, 'output.csv'))"
   ]
  },
  {
   "cell_type": "code",
   "execution_count": null,
   "metadata": {},
   "outputs": [],
   "source": []
  }
 ],
 "metadata": {
  "kernelspec": {
   "display_name": "Python 3",
   "language": "python",
   "name": "python3"
  },
  "language_info": {
   "codemirror_mode": {
    "name": "ipython",
    "version": 3
   },
   "file_extension": ".py",
   "mimetype": "text/x-python",
   "name": "python",
   "nbconvert_exporter": "python",
   "pygments_lexer": "ipython3",
   "version": "3.6.6"
  }
 },
 "nbformat": 4,
 "nbformat_minor": 2
}
